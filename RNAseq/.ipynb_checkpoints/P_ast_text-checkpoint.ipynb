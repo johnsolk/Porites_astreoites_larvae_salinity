{
 "cells": [
  {
   "cell_type": "markdown",
   "metadata": {},
   "source": [
    "# Porites astreoides larvae, acute salinity exposure experiment (2006)\n",
    "Ana María González Angel, Lisa Cohen, Sara Edge"
   ]
  },
  {
   "cell_type": "markdown",
   "metadata": {},
   "source": [
    "*Exposure Experiment*\n",
    "\n",
    "Fragments from three colonies of Porites astreoides were collected at Little Grecian Reef, Key Largo, in the Florida Reef Tract (Florida Keys National Marine Sanctuary permit FKNMS-2006-009) on June 21 2006 prior to the full moon (June 25), maintained in outdoor mesocosms covered by shade cloth at the Rosenstiel School of Marine and Atmospheric Science (RSMAS), University of Miami in seawater pumped from Bear Cut Bay, maintained at 25°C. Colonies had access to food plankton living within the mesocosm and pumped in with water and were kept until larvae were released then returned to their original site within a week after spawning.\n",
    "Nine batches of >250 newly-released larvae per colony were immediately transferred to plastic containers with one of three salinity conditions (25 ppt, 30 ppt, and 35 ppt) located within 10-gallon aquaria containing 6 cm of water to stabilize temperature. Each batch of 250 larvae was regarded as one sample. Three colony batches were obtained per treatment, each from a different parental colony. Larvae were collected twenty-four hours after exposure, fixed in RNAlater® (QIAGEN) then transferred to TRIzol solution and stored at -80°C until RNA processing.\n",
    "Sample Processing\n",
    "Total RNA was extracted from TRIzol aliquots following the manufacturer’s protocol (Chomezynski and Sacchi 1987, Life Technologies) and precipitated with lithium chloride (Meyer et al. 2009). The concentration and quality of extracted RNA was determined using UV spectrophotometry (NanoDrop® 1000, Thermo Fisher Scientific) then visually inspected with gel electrophoresis and the Bioanalyzer 2100 (Agilent Technologies) to ensure that only high quality RNA samples were used in subsequent analyses. \n",
    "\n",
    "References\n",
    "\n",
    "* Chomezynski, P. and Sacchi, N. (1987). Single-step method of RNA isolation by acid guanidinium thiocyanate phenol chloroform extraction. [Analytical Biochemistry, 162, pp. 156–159](http://www.ncbi.nlm.nih.gov/pubmed/2440339)\n",
    "* Kenkel and Matz. 2016. arXiv http://biorxiv.org/content/biorxiv/early/2016/06/18/059667.full.pdf\n",
    "* Mansour et al. 2016 http://gigascience.biomedcentral.com/articles/10.1186/s13742-016-0138-1\n",
    "* MacManes, M. 2014. http://journal.frontiersin.org/article/10.3389/fgene.2014.00013/full \n",
    "* Meyer et al 2009 http://bmcgenomics.biomedcentral.com/articles/10.1186/1471-2164-10-219"
   ]
  },
  {
   "cell_type": "code",
   "execution_count": 1,
   "metadata": {
    "collapsed": false
   },
   "outputs": [
    {
     "name": "stdout",
     "output_type": "stream",
     "text": [
      "25ppt_v_35ppt_MAplot.png               P_ast_RNAseq_30pptv35ppt_top1000DE.csv\r\n",
      "MAplot_25pptvs35ppt.png                P_ast_RNAseq_30pptv35ppt_top100DE.csv\r\n",
      "MAplot_30pptvs35ppt.png                RNAseq_khmer_protocols_notes_April2015\r\n",
      "PCA_salinity_samtools_idxstats.png     RSEM_25ppt_v_35ppt_annotated.csv\r\n",
      "P_ast_RNAseq_25pptv35ppt.csv           Untitled.ipynb\r\n",
      "P_ast_RNAseq_25pptv35ppt_top1000DE.csv \u001b[34mfastqc\u001b[m\u001b[m\r\n",
      "P_ast_RNAseq_25pptv35ppt_top100DE.csv  salinity_v_mansour_counts.csv\r\n",
      "P_ast_RNAseq_30pptv35ppt.csv           uniprot_sprot.blastx.outfmt6.fixed.sig\r\n"
     ]
    }
   ],
   "source": [
    "!ls"
   ]
  },
  {
   "cell_type": "code",
   "execution_count": 2,
   "metadata": {
    "collapsed": true
   },
   "outputs": [],
   "source": [
    "import os\n",
    "from os import path\n",
    "import pandas as pd"
   ]
  },
  {
   "cell_type": "code",
   "execution_count": 8,
   "metadata": {
    "collapsed": false
   },
   "outputs": [],
   "source": [
    "filename=\"P_ast_RNAseq_25pptv35ppt_top100DE.csv\"\n",
    "df = pd.DataFrame()\n",
    "data_frame = df.from_csv(filename)"
   ]
  },
  {
   "cell_type": "code",
   "execution_count": 9,
   "metadata": {
    "collapsed": false
   },
   "outputs": [
    {
     "data": {
      "text/html": [
       "<div>\n",
       "<table border=\"1\" class=\"dataframe\">\n",
       "  <thead>\n",
       "    <tr style=\"text-align: right;\">\n",
       "      <th></th>\n",
       "      <th>ContigID</th>\n",
       "      <th>logFC</th>\n",
       "      <th>logCPM</th>\n",
       "      <th>PValue</th>\n",
       "      <th>FDR</th>\n",
       "      <th>sal25ppt</th>\n",
       "      <th>sal30ppt</th>\n",
       "      <th>sal35ppt</th>\n",
       "    </tr>\n",
       "  </thead>\n",
       "  <tbody>\n",
       "    <tr>\n",
       "      <th>1</th>\n",
       "      <td>TR102218-c3_g3_i1</td>\n",
       "      <td>-4.972627</td>\n",
       "      <td>4.506695</td>\n",
       "      <td>7.220000e-07</td>\n",
       "      <td>0.002257</td>\n",
       "      <td>0.935373</td>\n",
       "      <td>38.144647</td>\n",
       "      <td>29.490678</td>\n",
       "    </tr>\n",
       "    <tr>\n",
       "      <th>2</th>\n",
       "      <td>TR102246-c3_g1_i1</td>\n",
       "      <td>-3.891524</td>\n",
       "      <td>5.146472</td>\n",
       "      <td>3.530000e-05</td>\n",
       "      <td>0.027292</td>\n",
       "      <td>3.644691</td>\n",
       "      <td>48.580767</td>\n",
       "      <td>54.146390</td>\n",
       "    </tr>\n",
       "    <tr>\n",
       "      <th>3</th>\n",
       "      <td>TR102531-c1_g1_i13</td>\n",
       "      <td>4.106510</td>\n",
       "      <td>2.424293</td>\n",
       "      <td>3.310000e-05</td>\n",
       "      <td>0.026227</td>\n",
       "      <td>11.356590</td>\n",
       "      <td>3.602914</td>\n",
       "      <td>0.655514</td>\n",
       "    </tr>\n",
       "    <tr>\n",
       "      <th>4</th>\n",
       "      <td>TR102539-c10_g13_i3</td>\n",
       "      <td>4.393238</td>\n",
       "      <td>3.822790</td>\n",
       "      <td>6.060000e-06</td>\n",
       "      <td>0.009884</td>\n",
       "      <td>35.576755</td>\n",
       "      <td>4.339479</td>\n",
       "      <td>1.689250</td>\n",
       "    </tr>\n",
       "    <tr>\n",
       "      <th>5</th>\n",
       "      <td>TR102539-c10_g13_i5</td>\n",
       "      <td>4.448315</td>\n",
       "      <td>2.667259</td>\n",
       "      <td>7.690000e-06</td>\n",
       "      <td>0.010252</td>\n",
       "      <td>15.345365</td>\n",
       "      <td>2.275578</td>\n",
       "      <td>0.699104</td>\n",
       "    </tr>\n",
       "  </tbody>\n",
       "</table>\n",
       "</div>"
      ],
      "text/plain": [
       "              ContigID     logFC    logCPM        PValue       FDR   sal25ppt  \\\n",
       "1    TR102218-c3_g3_i1 -4.972627  4.506695  7.220000e-07  0.002257   0.935373   \n",
       "2    TR102246-c3_g1_i1 -3.891524  5.146472  3.530000e-05  0.027292   3.644691   \n",
       "3   TR102531-c1_g1_i13  4.106510  2.424293  3.310000e-05  0.026227  11.356590   \n",
       "4  TR102539-c10_g13_i3  4.393238  3.822790  6.060000e-06  0.009884  35.576755   \n",
       "5  TR102539-c10_g13_i5  4.448315  2.667259  7.690000e-06  0.010252  15.345365   \n",
       "\n",
       "    sal30ppt   sal35ppt  \n",
       "1  38.144647  29.490678  \n",
       "2  48.580767  54.146390  \n",
       "3   3.602914   0.655514  \n",
       "4   4.339479   1.689250  \n",
       "5   2.275578   0.699104  "
      ]
     },
     "execution_count": 9,
     "metadata": {},
     "output_type": "execute_result"
    }
   ],
   "source": [
    "data_frame.head()"
   ]
  },
  {
   "cell_type": "code",
   "execution_count": 10,
   "metadata": {
    "collapsed": true
   },
   "outputs": [],
   "source": [
    "sig_contigs=data_frame[\"ContigID\"]"
   ]
  },
  {
   "cell_type": "code",
   "execution_count": 11,
   "metadata": {
    "collapsed": false
   },
   "outputs": [
    {
     "data": {
      "text/plain": [
       "1      TR102218-c3_g3_i1\n",
       "2      TR102246-c3_g1_i1\n",
       "3     TR102531-c1_g1_i13\n",
       "4    TR102539-c10_g13_i3\n",
       "5    TR102539-c10_g13_i5\n",
       "Name: ContigID, dtype: object"
      ]
     },
     "execution_count": 11,
     "metadata": {},
     "output_type": "execute_result"
    }
   ],
   "source": [
    "sig_contigs.head()"
   ]
  },
  {
   "cell_type": "code",
   "execution_count": 13,
   "metadata": {
    "collapsed": false
   },
   "outputs": [
    {
     "data": {
      "text/plain": [
       "100"
      ]
     },
     "execution_count": 13,
     "metadata": {},
     "output_type": "execute_result"
    }
   ],
   "source": [
    "len(sig_contigs)"
   ]
  },
  {
   "cell_type": "code",
   "execution_count": 15,
   "metadata": {
    "collapsed": false
   },
   "outputs": [
    {
     "ename": "ValueError",
     "evalue": "No columns to parse from file",
     "output_type": "error",
     "traceback": [
      "\u001b[0;31m---------------------------------------------------------------------------\u001b[0m",
      "\u001b[0;31mValueError\u001b[0m                                Traceback (most recent call last)",
      "\u001b[0;32m<ipython-input-15-2ec1e5ba165b>\u001b[0m in \u001b[0;36m<module>\u001b[0;34m()\u001b[0m\n\u001b[0;32m----> 1\u001b[0;31m \u001b[0mannot\u001b[0m\u001b[0;34m=\u001b[0m\u001b[0mpd\u001b[0m\u001b[0;34m.\u001b[0m\u001b[0mread_table\u001b[0m\u001b[0;34m(\u001b[0m\u001b[0;34m\"uniprot_sprot.blastx.outfmt6.fixed.sig\"\u001b[0m\u001b[0;34m,\u001b[0m\u001b[0msep\u001b[0m\u001b[0;34m=\u001b[0m\u001b[0;34m\"\\t\"\u001b[0m\u001b[0;34m)\u001b[0m\u001b[0;34m\u001b[0m\u001b[0m\n\u001b[0m",
      "\u001b[0;32m/Users/cohenl06/anaconda/lib/python2.7/site-packages/pandas/io/parsers.pyc\u001b[0m in \u001b[0;36mparser_f\u001b[0;34m(filepath_or_buffer, sep, dialect, compression, doublequote, escapechar, quotechar, quoting, skipinitialspace, lineterminator, header, index_col, names, prefix, skiprows, skipfooter, skip_footer, na_values, na_fvalues, true_values, false_values, delimiter, converters, dtype, usecols, engine, delim_whitespace, as_recarray, na_filter, compact_ints, use_unsigned, low_memory, buffer_lines, warn_bad_lines, error_bad_lines, keep_default_na, thousands, comment, decimal, parse_dates, keep_date_col, dayfirst, date_parser, memory_map, float_precision, nrows, iterator, chunksize, verbose, encoding, squeeze, mangle_dupe_cols, tupleize_cols, infer_datetime_format, skip_blank_lines)\u001b[0m\n\u001b[1;32m    472\u001b[0m                     skip_blank_lines=skip_blank_lines)\n\u001b[1;32m    473\u001b[0m \u001b[0;34m\u001b[0m\u001b[0m\n\u001b[0;32m--> 474\u001b[0;31m         \u001b[0;32mreturn\u001b[0m \u001b[0m_read\u001b[0m\u001b[0;34m(\u001b[0m\u001b[0mfilepath_or_buffer\u001b[0m\u001b[0;34m,\u001b[0m \u001b[0mkwds\u001b[0m\u001b[0;34m)\u001b[0m\u001b[0;34m\u001b[0m\u001b[0m\n\u001b[0m\u001b[1;32m    475\u001b[0m \u001b[0;34m\u001b[0m\u001b[0m\n\u001b[1;32m    476\u001b[0m     \u001b[0mparser_f\u001b[0m\u001b[0;34m.\u001b[0m\u001b[0m__name__\u001b[0m \u001b[0;34m=\u001b[0m \u001b[0mname\u001b[0m\u001b[0;34m\u001b[0m\u001b[0m\n",
      "\u001b[0;32m/Users/cohenl06/anaconda/lib/python2.7/site-packages/pandas/io/parsers.pyc\u001b[0m in \u001b[0;36m_read\u001b[0;34m(filepath_or_buffer, kwds)\u001b[0m\n\u001b[1;32m    248\u001b[0m \u001b[0;34m\u001b[0m\u001b[0m\n\u001b[1;32m    249\u001b[0m     \u001b[0;31m# Create the parser.\u001b[0m\u001b[0;34m\u001b[0m\u001b[0;34m\u001b[0m\u001b[0m\n\u001b[0;32m--> 250\u001b[0;31m     \u001b[0mparser\u001b[0m \u001b[0;34m=\u001b[0m \u001b[0mTextFileReader\u001b[0m\u001b[0;34m(\u001b[0m\u001b[0mfilepath_or_buffer\u001b[0m\u001b[0;34m,\u001b[0m \u001b[0;34m**\u001b[0m\u001b[0mkwds\u001b[0m\u001b[0;34m)\u001b[0m\u001b[0;34m\u001b[0m\u001b[0m\n\u001b[0m\u001b[1;32m    251\u001b[0m \u001b[0;34m\u001b[0m\u001b[0m\n\u001b[1;32m    252\u001b[0m     \u001b[0;32mif\u001b[0m \u001b[0;34m(\u001b[0m\u001b[0mnrows\u001b[0m \u001b[0;32mis\u001b[0m \u001b[0;32mnot\u001b[0m \u001b[0mNone\u001b[0m\u001b[0;34m)\u001b[0m \u001b[0;32mand\u001b[0m \u001b[0;34m(\u001b[0m\u001b[0mchunksize\u001b[0m \u001b[0;32mis\u001b[0m \u001b[0;32mnot\u001b[0m \u001b[0mNone\u001b[0m\u001b[0;34m)\u001b[0m\u001b[0;34m:\u001b[0m\u001b[0;34m\u001b[0m\u001b[0m\n",
      "\u001b[0;32m/Users/cohenl06/anaconda/lib/python2.7/site-packages/pandas/io/parsers.pyc\u001b[0m in \u001b[0;36m__init__\u001b[0;34m(self, f, engine, **kwds)\u001b[0m\n\u001b[1;32m    564\u001b[0m             \u001b[0mself\u001b[0m\u001b[0;34m.\u001b[0m\u001b[0moptions\u001b[0m\u001b[0;34m[\u001b[0m\u001b[0;34m'has_index_names'\u001b[0m\u001b[0;34m]\u001b[0m \u001b[0;34m=\u001b[0m \u001b[0mkwds\u001b[0m\u001b[0;34m[\u001b[0m\u001b[0;34m'has_index_names'\u001b[0m\u001b[0;34m]\u001b[0m\u001b[0;34m\u001b[0m\u001b[0m\n\u001b[1;32m    565\u001b[0m \u001b[0;34m\u001b[0m\u001b[0m\n\u001b[0;32m--> 566\u001b[0;31m         \u001b[0mself\u001b[0m\u001b[0;34m.\u001b[0m\u001b[0m_make_engine\u001b[0m\u001b[0;34m(\u001b[0m\u001b[0mself\u001b[0m\u001b[0;34m.\u001b[0m\u001b[0mengine\u001b[0m\u001b[0;34m)\u001b[0m\u001b[0;34m\u001b[0m\u001b[0m\n\u001b[0m\u001b[1;32m    567\u001b[0m \u001b[0;34m\u001b[0m\u001b[0m\n\u001b[1;32m    568\u001b[0m     \u001b[0;32mdef\u001b[0m \u001b[0m_get_options_with_defaults\u001b[0m\u001b[0;34m(\u001b[0m\u001b[0mself\u001b[0m\u001b[0;34m,\u001b[0m \u001b[0mengine\u001b[0m\u001b[0;34m)\u001b[0m\u001b[0;34m:\u001b[0m\u001b[0;34m\u001b[0m\u001b[0m\n",
      "\u001b[0;32m/Users/cohenl06/anaconda/lib/python2.7/site-packages/pandas/io/parsers.pyc\u001b[0m in \u001b[0;36m_make_engine\u001b[0;34m(self, engine)\u001b[0m\n\u001b[1;32m    703\u001b[0m     \u001b[0;32mdef\u001b[0m \u001b[0m_make_engine\u001b[0m\u001b[0;34m(\u001b[0m\u001b[0mself\u001b[0m\u001b[0;34m,\u001b[0m \u001b[0mengine\u001b[0m\u001b[0;34m=\u001b[0m\u001b[0;34m'c'\u001b[0m\u001b[0;34m)\u001b[0m\u001b[0;34m:\u001b[0m\u001b[0;34m\u001b[0m\u001b[0m\n\u001b[1;32m    704\u001b[0m         \u001b[0;32mif\u001b[0m \u001b[0mengine\u001b[0m \u001b[0;34m==\u001b[0m \u001b[0;34m'c'\u001b[0m\u001b[0;34m:\u001b[0m\u001b[0;34m\u001b[0m\u001b[0m\n\u001b[0;32m--> 705\u001b[0;31m             \u001b[0mself\u001b[0m\u001b[0;34m.\u001b[0m\u001b[0m_engine\u001b[0m \u001b[0;34m=\u001b[0m \u001b[0mCParserWrapper\u001b[0m\u001b[0;34m(\u001b[0m\u001b[0mself\u001b[0m\u001b[0;34m.\u001b[0m\u001b[0mf\u001b[0m\u001b[0;34m,\u001b[0m \u001b[0;34m**\u001b[0m\u001b[0mself\u001b[0m\u001b[0;34m.\u001b[0m\u001b[0moptions\u001b[0m\u001b[0;34m)\u001b[0m\u001b[0;34m\u001b[0m\u001b[0m\n\u001b[0m\u001b[1;32m    706\u001b[0m         \u001b[0;32melse\u001b[0m\u001b[0;34m:\u001b[0m\u001b[0;34m\u001b[0m\u001b[0m\n\u001b[1;32m    707\u001b[0m             \u001b[0;32mif\u001b[0m \u001b[0mengine\u001b[0m \u001b[0;34m==\u001b[0m \u001b[0;34m'python'\u001b[0m\u001b[0;34m:\u001b[0m\u001b[0;34m\u001b[0m\u001b[0m\n",
      "\u001b[0;32m/Users/cohenl06/anaconda/lib/python2.7/site-packages/pandas/io/parsers.pyc\u001b[0m in \u001b[0;36m__init__\u001b[0;34m(self, src, **kwds)\u001b[0m\n\u001b[1;32m   1070\u001b[0m         \u001b[0mkwds\u001b[0m\u001b[0;34m[\u001b[0m\u001b[0;34m'allow_leading_cols'\u001b[0m\u001b[0;34m]\u001b[0m \u001b[0;34m=\u001b[0m \u001b[0mself\u001b[0m\u001b[0;34m.\u001b[0m\u001b[0mindex_col\u001b[0m \u001b[0;32mis\u001b[0m \u001b[0;32mnot\u001b[0m \u001b[0mFalse\u001b[0m\u001b[0;34m\u001b[0m\u001b[0m\n\u001b[1;32m   1071\u001b[0m \u001b[0;34m\u001b[0m\u001b[0m\n\u001b[0;32m-> 1072\u001b[0;31m         \u001b[0mself\u001b[0m\u001b[0;34m.\u001b[0m\u001b[0m_reader\u001b[0m \u001b[0;34m=\u001b[0m \u001b[0m_parser\u001b[0m\u001b[0;34m.\u001b[0m\u001b[0mTextReader\u001b[0m\u001b[0;34m(\u001b[0m\u001b[0msrc\u001b[0m\u001b[0;34m,\u001b[0m \u001b[0;34m**\u001b[0m\u001b[0mkwds\u001b[0m\u001b[0;34m)\u001b[0m\u001b[0;34m\u001b[0m\u001b[0m\n\u001b[0m\u001b[1;32m   1073\u001b[0m \u001b[0;34m\u001b[0m\u001b[0m\n\u001b[1;32m   1074\u001b[0m         \u001b[0;31m# XXX\u001b[0m\u001b[0;34m\u001b[0m\u001b[0;34m\u001b[0m\u001b[0m\n",
      "\u001b[0;32mpandas/parser.pyx\u001b[0m in \u001b[0;36mpandas.parser.TextReader.__cinit__ (pandas/parser.c:4814)\u001b[0;34m()\u001b[0m\n",
      "\u001b[0;31mValueError\u001b[0m: No columns to parse from file"
     ]
    }
   ],
   "source": [
    "annot=pd.read_table(\"uniprot_sprot.blastx.outfmt6.fixed.sig\",sep=\"\\t\")"
   ]
  },
  {
   "cell_type": "code",
   "execution_count": null,
   "metadata": {
    "collapsed": true
   },
   "outputs": [],
   "source": []
  }
 ],
 "metadata": {
  "kernelspec": {
   "display_name": "Python 2",
   "language": "python",
   "name": "python2"
  },
  "language_info": {
   "codemirror_mode": {
    "name": "ipython",
    "version": 2
   },
   "file_extension": ".py",
   "mimetype": "text/x-python",
   "name": "python",
   "nbconvert_exporter": "python",
   "pygments_lexer": "ipython2",
   "version": "2.7.12"
  }
 },
 "nbformat": 4,
 "nbformat_minor": 0
}
